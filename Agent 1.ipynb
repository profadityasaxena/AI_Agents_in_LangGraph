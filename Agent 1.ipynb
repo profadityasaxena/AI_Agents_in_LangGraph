{
 "cells": [
  {
   "cell_type": "markdown",
   "id": "26d5baae",
   "metadata": {
    "height": 30
   },
   "source": [
    "# AI Agent with LangGraph and ReAct Pattern\n",
    "---\n",
    "\n",
    "This project demonstrates the creation of an AI agent from scratch.\n",
    "\n",
    "## Contributing\n",
    "\n",
    "Contributions are welcome! Please follow these steps:\n",
    "\n",
    "1. Fork the repository.\n",
    "2. Create a new branch: `git checkout -b feature-name`.\n",
    "3. Commit your changes: `git commit -m 'Add feature'`.\n",
    "4. Push to the branch: `git push origin feature-name`.\n",
    "5. Open a pull request.\n",
    "\n",
    "## License\n",
    "\n",
    "This project is licensed under the [MIT License](LICENSE).\n",
    "\n",
    "---\n",
    "\n"
   ]
  },
  {
   "cell_type": "markdown",
   "id": "4e0d28e8",
   "metadata": {
    "height": 30
   },
   "source": [
    "### Step 1: Setting up the environment"
   ]
  },
  {
   "cell_type": "code",
   "execution_count": 51,
   "id": "d954332d",
   "metadata": {
    "height": 47
   },
   "outputs": [],
   "source": [
    "# install dependencies if they do not exist\n",
    "# !pip install openai regex httpx python-dotenv"
   ]
  },
  {
   "cell_type": "code",
   "execution_count": 52,
   "id": "072931b3",
   "metadata": {
    "height": 149
   },
   "outputs": [],
   "source": [
    "import openai                                                                # Imports the legacy OpenAI SDK (used in versions <1.0 for direct API calls)\n",
    "import re                                                                    # Imports the regular expressions module for pattern matching and text processing\n",
    "import httpx                                                                 # Imports the HTTPX library for async-capable HTTP requests\n",
    "import os                                                                    # Imports the OS module to interact with environment variables and file paths\n",
    "from dotenv import load_dotenv                                               # Imports the function to load environment variables from a .env file\n",
    "\n",
    "_ = load_dotenv()                                                            # Loads environment variables from a .env file into the runtime environment\n",
    "from openai import OpenAI                                                    # Imports the OpenAI client class (used in SDK v1.0+ for client-based API access)"
   ]
  },
  {
   "cell_type": "code",
   "execution_count": 53,
   "id": "dc3293b7-a50c-43c8-a022-8975e1e444b8",
   "metadata": {
    "height": 30
   },
   "outputs": [],
   "source": [
    "client = OpenAI()                                                             # Initializes the OpenAI client using the API key from the \"OPENAI_API_KEY\" environment variable"
   ]
  },
  {
   "cell_type": "code",
   "execution_count": 54,
   "id": "0722c3d4-4cbf-43bf-81b0-50f634c4ce61",
   "metadata": {
    "height": 81
   },
   "outputs": [],
   "source": [
    "chat_completion = client.chat.completions.create(                            # Sends a chat completion request to the OpenAI API using the client instance\n",
    "    model=\"gpt-3.5-turbo\",                                                   # Specifies the language model to use (in this case, GPT-3.5 Turbo)\n",
    "    messages=[                                                               # Provides a list of messages representing the conversation history\n",
    "        {\"role\": \"user\", \"content\": \"Hello world\"}                           # Defines a single message where the user says \"Hello world\"\n",
    "    ]\n",
    ")"
   ]
  },
  {
   "cell_type": "code",
   "execution_count": 55,
   "id": "6b2f82fe-3ec4-4917-be51-9fb10d1317fa",
   "metadata": {
    "height": 30
   },
   "outputs": [
    {
     "data": {
      "text/plain": [
       "'Hello! How can I assist you today?'"
      ]
     },
     "execution_count": 55,
     "metadata": {},
     "output_type": "execute_result"
    }
   ],
   "source": [
    "chat_completion.choices[0].message.content                                   # Retrieves the assistant's text response from the first result in the list of generated choices returned by the OpenAI chat completion API"
   ]
  },
  {
   "cell_type": "code",
   "execution_count": 56,
   "id": "ee0fe1c7-77e2-499c-a2f9-1f739bb6ddf0",
   "metadata": {
    "height": 387
   },
   "outputs": [],
   "source": [
    "class Agent:\n",
    "    def __init__(self, system=\"\"):                                           # Initializes the Agent with an optional system prompt\n",
    "        self.system = system                                                 # Stores the system message (if any)\n",
    "        self.messages = []                                                   # Initializes an empty message history list\n",
    "        if self.system:                                                      # If a system prompt is provided...\n",
    "            self.messages.append({\"role\": \"system\", \"content\": system})      # ...add it as the first message\n",
    "\n",
    "    def __call__(self, message):                                             # Makes the Agent instance callable like a function, taking a user message\n",
    "        self.messages.append({\"role\": \"user\", \"content\": message})           # Adds the user's message to the history\n",
    "        result = self.execute()                                              # Calls the execute method to get the assistant's reply\n",
    "        self.messages.append({\"role\": \"assistant\", \"content\": result})       # Appends the assistant's response to the history\n",
    "        return result                                                        # Returns the assistant's response\n",
    "\n",
    "    def execute(self):                                                       # Defines how the agent communicates with the OpenAI API\n",
    "        completion = client.chat.completions.create(                         # Sends all messages to the chat API using GPT-4o\n",
    "                        model=\"gpt-4o\",                                      # Specifies the GPT-4 Omni model\n",
    "                        temperature=0,                                       # Sets deterministic output (no randomness)\n",
    "                        messages=self.messages)                              # Sends the full conversation history\n",
    "        return completion.choices[0].message.content                         # Returns the assistant's message from the first choice"
   ]
  },
  {
   "cell_type": "code",
   "execution_count": 57,
   "id": "98f303b1-a4d0-408c-8cc0-515ff980717f",
   "metadata": {
    "height": 557
   },
   "outputs": [],
   "source": [
    "prompt = \"\"\"\n",
    "You run in a loop of Thought, Action, PAUSE, Observation.\n",
    "At the end of the loop you output an Answer\n",
    "Use Thought to describe your thoughts about the question you have been asked.\n",
    "Use Action to run one of the actions available to you - then return PAUSE.\n",
    "Observation will be the result of running those actions.\n",
    "\n",
    "Your available actions are:\n",
    "\n",
    "calculate:\n",
    "e.g. calculate: 4 * 7 / 3\n",
    "Runs a calculation and returns the number - uses Python so be sure to use floating point syntax if necessary\n",
    "\n",
    "average_dog_weight:\n",
    "e.g. average_dog_weight: Collie\n",
    "returns average weight of a dog when given the breed\n",
    "\n",
    "Example session:\n",
    "\n",
    "Question: How much does a Bulldog weigh?\n",
    "Thought: I should look the dogs weight using average_dog_weight\n",
    "Action: average_dog_weight: Bulldog\n",
    "PAUSE\n",
    "\n",
    "You will be called again with this:\n",
    "\n",
    "Observation: A Bulldog weights 51 lbs\n",
    "\n",
    "You then output:\n",
    "\n",
    "Answer: A bulldog weights 51 lbs\n",
    "\"\"\".strip()"
   ]
  },
  {
   "cell_type": "code",
   "execution_count": 58,
   "id": "bf4dcb93-6298-4cfd-b3ce-61dfac7fb35f",
   "metadata": {
    "height": 302
   },
   "outputs": [],
   "source": [
    "def calculate(what):                                                      # Defines a function that evaluates a mathematical expression passed as a string\n",
    "    return eval(what)                                                     # Uses Python's eval() to compute the result (⚠️ unsafe with untrusted input)\n",
    "\n",
    "def average_dog_weight(name):                                             # Returns average weight information based on the dog's breed name\n",
    "    if name in \"Scottish Terrier\":                                        # Checks if input is a substring of \"Scottish Terrier\" (not exact match)\n",
    "        return(\"Scottish Terriers average 20 lbs\")                        # Returns weight for Scottish Terrier\n",
    "    elif name in \"Border Collie\":                                         # Checks if input is a substring of \"Border Collie\"\n",
    "        return(\"a Border Collies average weight is 37 lbs\")               # Returns weight for Border Collie\n",
    "    elif name in \"Toy Poodle\":                                            # Checks if input is a substring of \"Toy Poodle\"\n",
    "        return(\"a toy poodles average weight is 7 lbs\")                   # Returns weight for Toy Poodle\n",
    "    else:\n",
    "        return(\"An average dog weights 50 lbs\")                           # Default fallback for unknown breeds\n",
    "\n",
    "known_actions = {                                                         # Defines a dictionary mapping action names (as strings) to their corresponding functions\n",
    "    \"calculate\": calculate,                                               # Maps \"calculate\" to the calculate() function\n",
    "    \"average_dog_weight\": average_dog_weight                              # Maps \"average_dog_weight\" to the average_dog_weight() function\n",
    "}"
   ]
  },
  {
   "cell_type": "code",
   "execution_count": 59,
   "id": "932883a4-c722-42bb-aec0-b4f41c5c81a4",
   "metadata": {
    "height": 30
   },
   "outputs": [],
   "source": [
    "abot = Agent(prompt)                                                      # Creates an instance of the Agent class using the provided system prompt as context for the assistant"
   ]
  },
  {
   "cell_type": "code",
   "execution_count": 60,
   "id": "ff362f49-dcf1-4ea1-a86c-e516e9ab897d",
   "metadata": {
    "height": 47
   },
   "outputs": [
    {
     "name": "stdout",
     "output_type": "stream",
     "text": [
      "Thought: I should look up the average weight of a Toy Poodle using the average_dog_weight action.\n",
      "Action: average_dog_weight: Toy Poodle\n",
      "PAUSE\n"
     ]
    }
   ],
   "source": [
    "result = abot(\"How much does a toy poodle weigh?\")                        # Sends the user's question to the Agent, which queries the model and returns a response\n",
    "print(result)                                                             # Prints the assistant's reply (e.g., from GPT-4o based on the conversation history)"
   ]
  },
  {
   "cell_type": "code",
   "execution_count": 61,
   "id": "a7e15a20-83d7-434c-8551-bce8dcc32be0",
   "metadata": {
    "height": 30
   },
   "outputs": [],
   "source": [
    "result = average_dog_weight(\"Toy Poodle\")                                 # Calls the average_dog_weight function with \"Toy Poodle\" as input and stores the returned weight description in 'result'"
   ]
  },
  {
   "cell_type": "code",
   "execution_count": 62,
   "id": "54ab2c74-f32e-490c-a85d-932d11444210",
   "metadata": {
    "height": 30
   },
   "outputs": [
    {
     "data": {
      "text/plain": [
       "'a toy poodles average weight is 7 lbs'"
      ]
     },
     "execution_count": 62,
     "metadata": {},
     "output_type": "execute_result"
    }
   ],
   "source": [
    "result                                                                    # A variable that holds the output returned by the average_dog_weight function for the given dog breed input"
   ]
  },
  {
   "cell_type": "code",
   "execution_count": 63,
   "id": "a833d3ce-bd31-4319-811d-decff226b970",
   "metadata": {
    "height": 30
   },
   "outputs": [],
   "source": [
    "next_prompt = \"Observation: {}\".format(result)                            # Formats a string by inserting the value of 'result' into an observation statement, useful for reasoning chains or agent memory"
   ]
  },
  {
   "cell_type": "code",
   "execution_count": 64,
   "id": "76e93cce-6eab-4c7c-ac64-e9993fdb30d6",
   "metadata": {
    "height": 30
   },
   "outputs": [
    {
     "data": {
      "text/plain": [
       "'Answer: A Toy Poodle weighs an average of 7 lbs.'"
      ]
     },
     "execution_count": 64,
     "metadata": {},
     "output_type": "execute_result"
    }
   ],
   "source": [
    "abot(next_prompt)                                                         # Sends the formatted observation string to the Agent, which appends it to the conversation history and gets a response from the language model"
   ]
  },
  {
   "cell_type": "code",
   "execution_count": 65,
   "id": "fd2d0990-a932-423f-9ff3-5cada58c5f32",
   "metadata": {
    "height": 30
   },
   "outputs": [
    {
     "data": {
      "text/plain": [
       "[{'role': 'system',\n",
       "  'content': 'You run in a loop of Thought, Action, PAUSE, Observation.\\nAt the end of the loop you output an Answer\\nUse Thought to describe your thoughts about the question you have been asked.\\nUse Action to run one of the actions available to you - then return PAUSE.\\nObservation will be the result of running those actions.\\n\\nYour available actions are:\\n\\ncalculate:\\ne.g. calculate: 4 * 7 / 3\\nRuns a calculation and returns the number - uses Python so be sure to use floating point syntax if necessary\\n\\naverage_dog_weight:\\ne.g. average_dog_weight: Collie\\nreturns average weight of a dog when given the breed\\n\\nExample session:\\n\\nQuestion: How much does a Bulldog weigh?\\nThought: I should look the dogs weight using average_dog_weight\\nAction: average_dog_weight: Bulldog\\nPAUSE\\n\\nYou will be called again with this:\\n\\nObservation: A Bulldog weights 51 lbs\\n\\nYou then output:\\n\\nAnswer: A bulldog weights 51 lbs'},\n",
       " {'role': 'user', 'content': 'How much does a toy poodle weigh?'},\n",
       " {'role': 'assistant',\n",
       "  'content': 'Thought: I should look up the average weight of a Toy Poodle using the average_dog_weight action.\\nAction: average_dog_weight: Toy Poodle\\nPAUSE'},\n",
       " {'role': 'user',\n",
       "  'content': 'Observation: a toy poodles average weight is 7 lbs'},\n",
       " {'role': 'assistant',\n",
       "  'content': 'Answer: A Toy Poodle weighs an average of 7 lbs.'}]"
      ]
     },
     "execution_count": 65,
     "metadata": {},
     "output_type": "execute_result"
    }
   ],
   "source": [
    "abot.messages                                                             # Displays the full conversation history stored in the Agent, including system prompts, user messages, assistant replies, and any intermediate observations"
   ]
  },
  {
   "cell_type": "code",
   "execution_count": 66,
   "id": "27cde654-64e2-48bc-80a9-0ed668ccb7dc",
   "metadata": {
    "height": 30
   },
   "outputs": [],
   "source": [
    "abot = Agent(prompt)                                                    # Instantiates the Agent with the initial system prompt, setting the context or behavior guidelines for the language model"
   ]
  },
  {
   "cell_type": "code",
   "execution_count": 67,
   "id": "4871f644-b131-4065-b7ce-b82c20a41f11",
   "metadata": {
    "height": 64
   },
   "outputs": [
    {
     "data": {
      "text/plain": [
       "'Thought: I need to find the average weight of both a Border Collie and a Scottish Terrier, then add them together to find the combined weight.\\nAction: average_dog_weight: Border Collie\\nPAUSE'"
      ]
     },
     "execution_count": 67,
     "metadata": {},
     "output_type": "execute_result"
    }
   ],
   "source": [
    "question = \"\"\"I have 2 dogs, a border collie and a scottish terrier. \\\n",
    "What is their combined weight\"\"\"                                        # Defines a multiline string containing the user's question about two dog breeds\n",
    "\n",
    "abot(question)                                                          # Sends the question to the Agent, which adds it to the message history, queries the model, and returns the assistant's calculated or inferred response"
   ]
  },
  {
   "cell_type": "code",
   "execution_count": 68,
   "id": "8c3d8070-3f36-4cf0-a677-508e54359c8f",
   "metadata": {
    "height": 47
   },
   "outputs": [
    {
     "name": "stdout",
     "output_type": "stream",
     "text": [
      "Observation: a Border Collies average weight is 37 lbs\n"
     ]
    }
   ],
   "source": [
    "next_prompt = \"Observation: {}\".format(average_dog_weight(\"Border Collie\"))  # Inserts the returned string from average_dog_weight(\"Border Collie\") into an observation statement\n",
    "print(next_prompt)                                                           # Outputs: Observation: a Border Collies average weight is 37 lbs"
   ]
  },
  {
   "cell_type": "code",
   "execution_count": 69,
   "id": "98f3be1d-cc4c-41fa-9863-3e386e88e305",
   "metadata": {
    "height": 30
   },
   "outputs": [
    {
     "data": {
      "text/plain": [
       "'Action: average_dog_weight: Scottish Terrier\\nPAUSE'"
      ]
     },
     "execution_count": 69,
     "metadata": {},
     "output_type": "execute_result"
    }
   ],
   "source": [
    "abot(next_prompt)                                                               # Sends the observation (e.g., about a Border Collie's weight) to the Agent, which updates the message history and retrieves a contextual response from the model"
   ]
  },
  {
   "cell_type": "code",
   "execution_count": 70,
   "id": "0ad8a6cc-65d4-4ce7-87aa-4e67d7c23d7b",
   "metadata": {
    "height": 47
   },
   "outputs": [
    {
     "name": "stdout",
     "output_type": "stream",
     "text": [
      "Observation: Scottish Terriers average 20 lbs\n"
     ]
    }
   ],
   "source": [
    "next_prompt = \"Observation: {}\".format(average_dog_weight(\"Scottish Terrier\"))  # Formats the observation string using the weight info for a Scottish Terrier\n",
    "print(next_prompt)                                                              # Outputs: Observation: Scottish Terriers average 20 lbs"
   ]
  },
  {
   "cell_type": "code",
   "execution_count": 71,
   "id": "592b5e62-a203-433c-92a0-3783f490cde1",
   "metadata": {
    "height": 30
   },
   "outputs": [
    {
     "data": {
      "text/plain": [
       "'Thought: Now that I have the average weights of both dogs, I can calculate their combined weight by adding the two values together.\\nAction: calculate: 37 + 20\\nPAUSE'"
      ]
     },
     "execution_count": 71,
     "metadata": {},
     "output_type": "execute_result"
    }
   ],
   "source": [
    "abot(next_prompt)                                                               # Sends the new observation about the Scottish Terrier's weight to the Agent, which logs it in the conversation and gets an updated response from the language model"
   ]
  },
  {
   "cell_type": "code",
   "execution_count": 72,
   "id": "14fa923c-7e4f-42d1-965f-0f8ccd50fbd7",
   "metadata": {
    "height": 47
   },
   "outputs": [
    {
     "name": "stdout",
     "output_type": "stream",
     "text": [
      "Observation: 57\n"
     ]
    }
   ],
   "source": [
    "next_prompt = \"Observation: {}\".format(eval(\"37 + 20\"))                         # Evaluates the expression \"37 + 20\" to get 57, then formats it as: \"Observation: 57\"\n",
    "print(next_prompt)                                                              # Outputs: Observation: 57"
   ]
  },
  {
   "cell_type": "code",
   "execution_count": 73,
   "id": "570c6245-2837-4ac5-983b-95f61f3ac10d",
   "metadata": {
    "height": 30
   },
   "outputs": [
    {
     "data": {
      "text/plain": [
       "'Answer: The combined weight of a Border Collie and a Scottish Terrier is 57 lbs.'"
      ]
     },
     "execution_count": 73,
     "metadata": {},
     "output_type": "execute_result"
    }
   ],
   "source": [
    "abot(next_prompt)                                                               # Sends the numeric observation (\"Observation: 57\") to the Agent, allowing the assistant to reason further or acknowledge the calculated combined weight in the conversation context"
   ]
  },
  {
   "cell_type": "markdown",
   "id": "6b46f2ac-f717-4ab9-b548-f34b74071d76",
   "metadata": {},
   "source": [
    "### Add loop "
   ]
  },
  {
   "cell_type": "code",
   "execution_count": 74,
   "id": "6b910915-b087-4d35-afff-0ec30a5852f1",
   "metadata": {
    "height": 30
   },
   "outputs": [],
   "source": [
    "action_re = re.compile('^Action: (\\w+): (.*)$')                                 # python regular expression to selection action"
   ]
  },
  {
   "cell_type": "code",
   "execution_count": 75,
   "id": "c4feb6cc-5129-4a99-bb45-851bc07b5709",
   "metadata": {
    "height": 421
   },
   "outputs": [],
   "source": [
    "def query(question, max_turns=5):                                               # Defines a function to interact with the agent and execute tool calls for a fixed number of steps\n",
    "    i = 0                                                                       # Initializes a counter to track the number of interaction turns\n",
    "    bot = Agent(prompt)                                                         # Creates a new agent instance using the provided system prompt\n",
    "    next_prompt = question                                                      # Sets the initial prompt to the user’s question\n",
    "\n",
    "    while i < max_turns:                                                        # Loops for a maximum of `max_turns` iterations\n",
    "        i += 1                                                                  # Increments the turn counter\n",
    "        result = bot(next_prompt)                                               # Sends the current prompt to the agent and gets a response\n",
    "        print(result)                                                           # Prints the assistant's response\n",
    "\n",
    "        # Looks for lines in the response that match the expected action format (e.g., Action: function(\"input\"))\n",
    "        actions = [\n",
    "            action_re.match(a) \n",
    "            for a in result.split('\\n') \n",
    "            if action_re.match(a)\n",
    "        ]\n",
    "\n",
    "        if actions:                                                            # If the model suggested an action\n",
    "            action, action_input = actions[0].groups()                         # Extract the action name and its input argument\n",
    "\n",
    "            if action not in known_actions:                                    # If the action isn't in the predefined tools\n",
    "                raise Exception(\"Unknown action: {}: {}\".format(action, action_input))  # Raise an error\n",
    "\n",
    "            print(\" -- running {} {}\".format(action, action_input))            # Logs the action being executed\n",
    "            observation = known_actions[action](action_input)                  # Executes the tool function and stores the result\n",
    "            print(\"Observation:\", observation)                                 # Prints the observation returned from the tool\n",
    "            next_prompt = \"Observation: {}\".format(observation)                # Formats the observation as the next input to the agent\n",
    "        else:\n",
    "            return                                                             # Stops if no further action is suggested by the assistant"
   ]
  },
  {
   "cell_type": "code",
   "execution_count": 76,
   "id": "e85a02b4-96cc-4b01-8792-397a774eb499",
   "metadata": {
    "height": 64
   },
   "outputs": [
    {
     "name": "stdout",
     "output_type": "stream",
     "text": [
      "Thought: I need to find the average weight of both a Border Collie and a Scottish Terrier, then add them together to find the combined weight.\n",
      "Action: average_dog_weight: Border Collie\n",
      "PAUSE\n",
      " -- running average_dog_weight Border Collie\n",
      "Observation: a Border Collies average weight is 37 lbs\n",
      "Action: average_dog_weight: Scottish Terrier\n",
      "PAUSE\n",
      " -- running average_dog_weight Scottish Terrier\n",
      "Observation: Scottish Terriers average 20 lbs\n",
      "Thought: Now that I have the average weights of both the Border Collie and the Scottish Terrier, I can calculate their combined weight.\n",
      "Action: calculate: 37 + 20\n",
      "PAUSE\n",
      " -- running calculate 37 + 20\n",
      "Observation: 57\n",
      "Answer: The combined average weight of a Border Collie and a Scottish Terrier is 57 lbs.\n"
     ]
    }
   ],
   "source": [
    "question = \"\"\"I have 2 dogs, a border collie and a scottish terrier. \\  # Defines a multi-line string asking for the combined weight of two specific dog breeds\n",
    "What is their combined weight\"\"\"                                               # Continues the question on the next line due to the backslash\n",
    "\n",
    "query(question)                                                  # Calls the query() function with the user's question, initiating a multi-turn reasoning loop where the agent may use tool functions to compute an answer"
   ]
  },
  {
   "cell_type": "code",
   "execution_count": null,
   "id": "ae8b86a6-5e20-4252-b1d8-009b8318345a",
   "metadata": {
    "height": 30
   },
   "outputs": [],
   "source": []
  },
  {
   "cell_type": "code",
   "execution_count": null,
   "id": "af925917-b746-48c9-ac74-62fefbe5246c",
   "metadata": {
    "height": 30
   },
   "outputs": [],
   "source": []
  },
  {
   "cell_type": "code",
   "execution_count": null,
   "id": "9dbbfd71",
   "metadata": {
    "height": 30
   },
   "outputs": [],
   "source": []
  }
 ],
 "metadata": {
  "kernelspec": {
   "display_name": "Python 3 (ipykernel)",
   "language": "python",
   "name": "python3"
  },
  "language_info": {
   "codemirror_mode": {
    "name": "ipython",
    "version": 3
   },
   "file_extension": ".py",
   "mimetype": "text/x-python",
   "name": "python",
   "nbconvert_exporter": "python",
   "pygments_lexer": "ipython3",
   "version": "3.11.9"
  }
 },
 "nbformat": 4,
 "nbformat_minor": 5
}
